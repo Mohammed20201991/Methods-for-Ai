{
 "cells": [
  {
   "cell_type": "markdown",
   "metadata": {
    "id": "KzuOUVymAYRE"
   },
   "source": [
    "# Measures of Central Tendency\n",
    "\n",
    "**\"The tendency of quantitative data to cluster around some central value.\"**\n",
    "\n",
    "Measures of central tendency help you find the middle, or the average, of a data set. The 3 most common measures of central tendency are the mode, median, and mean.\n",
    "\n",
    "* Mean: the sum of all values divided by the total number of values.\n",
    "* Median: the middle number in an ordered data set.\n",
    "* Mode: the most frequent value."
   ]
  },
  {
   "cell_type": "markdown",
   "metadata": {
    "id": "0JxR89fUAYRL"
   },
   "source": [
    "## Mean\n",
    "\n",
    "*The sum of all values divided by the total number of values.*"
   ]
  },
  {
   "cell_type": "markdown",
   "metadata": {
    "id": "6AbM0XRiAYRM"
   },
   "source": [
    "**So Provided that we have a set of data. How can we find the mean?**"
   ]
  },
  {
   "cell_type": "code",
   "execution_count": 1,
   "metadata": {
    "id": "2lX6YxNoAYRN",
    "outputId": "ebadc8ef-8172-4d8c-d2b6-b33e82646d9a"
   },
   "outputs": [
    {
     "name": "stdout",
     "output_type": "stream",
     "text": [
      "2.9062500000000004\n"
     ]
    }
   ],
   "source": [
    "# Suppose that A is a list of student GPAs, we are going to find the mean:\n",
    "A = [3.5, 2, 2.8, 2.9, 3.3, 4.0, 2.9, 1.7, 3.4, 3.0, 3.0, 2.6, 3.1, 2.6, 2.0, 3.7]\n",
    "\n",
    "# First we find the sum of all values in A\n",
    "sum = 0\n",
    "for value in A:\n",
    "    sum += value\n",
    "\n",
    "# Then we devide the sum by the number of elements in A\n",
    "mean = sum / len(A)\n",
    "\n",
    "print(mean)"
   ]
  },
  {
   "cell_type": "markdown",
   "metadata": {
    "id": "JC6ChTe_AYRP"
   },
   "source": [
    "**Using NumPy Arrays:**\n",
    "\n",
    "Note that using NumPy will make this much easier:"
   ]
  },
  {
   "cell_type": "code",
   "execution_count": 3,
   "metadata": {
    "id": "JXuGSVXVAYRQ",
    "outputId": "0a815c55-d128-413b-b10d-19d66b6a43a2"
   },
   "outputs": [
    {
     "name": "stdout",
     "output_type": "stream",
     "text": [
      "2.90625\n"
     ]
    }
   ],
   "source": [
    "import numpy as np\n",
    "\n",
    "A = [3.5, 2, 2.8, 2.9, 3.3, 4.0, 2.9, 1.7, 3.4, 3.0, 3.0, 2.6, 3.1, 2.6, 2.0, 3.7]\n",
    "\n",
    "# Create a NumPy array from the python list A\n",
    "A = np.array(A)\n",
    "\n",
    "# Find the sum using NumPy's built-in methods\n",
    "sum = A.sum()\n",
    "\n",
    "mean = sum/len(A)\n",
    "\n",
    "print(mean)"
   ]
  },
  {
   "cell_type": "markdown",
   "metadata": {
    "id": "XZMTPKkpAYRQ"
   },
   "source": [
    "Actually we can find the mean directly by calling NumPy's universal function (mean):"
   ]
  },
  {
   "cell_type": "code",
   "execution_count": 4,
   "metadata": {
    "id": "3-iI6juEAYRR",
    "outputId": "c4d0d969-9728-4fef-c183-0f223f9ee09e"
   },
   "outputs": [
    {
     "name": "stdout",
     "output_type": "stream",
     "text": [
      "2.90625\n"
     ]
    }
   ],
   "source": [
    "import numpy as np\n",
    "\n",
    "A = np.array(A)\n",
    "\n",
    "mean = np.mean(A)\n",
    "\n",
    "print(mean)"
   ]
  },
  {
   "cell_type": "markdown",
   "metadata": {
    "id": "EQ4uF7x1AYRS"
   },
   "source": [
    "\n",
    "\n",
    "```\n",
    "# This is formatted as code\n",
    "```\n",
    "\n",
    "## Median\n",
    "\n",
    "*The middle number in an ordered data set.*"
   ]
  },
  {
   "cell_type": "markdown",
   "metadata": {
    "id": "y_Ni1KGuAYRT"
   },
   "source": [
    "**Finding the median using python lists:**"
   ]
  },
  {
   "cell_type": "code",
   "execution_count": 13,
   "metadata": {
    "executionInfo": {
     "elapsed": 17,
     "status": "ok",
     "timestamp": 1644569986579,
     "user": {
      "displayName": "sulaiman mahmoud",
      "photoUrl": "https://lh3.googleusercontent.com/a/default-user=s64",
      "userId": "09395126489755828051"
     },
     "user_tz": -120
    },
    "id": "jTsRrGmRAYRU"
   },
   "outputs": [],
   "source": [
    "def median(x):\n",
    "    # First step is to sort the data. Python lists have a built-in method to do that\n",
    "    x.sort()\n",
    "    print(x)\n",
    "    # We have to find the middle number which can be tricky depending on the number\n",
    "    # of elements we have in the list\n",
    "\n",
    "    if len(x) % 2 == 1:  # If the list has an odd number of elements \n",
    "        print(\"the list has odd elements\")\n",
    "        middle = int((len(x)) / 2)  # int(3.5) = 3    This works because indexing starts from 0\n",
    "        median = x[middle]    #  x[3]\n",
    "        \n",
    "    else:  # If the list has an even number of elements \n",
    "        print(\"the list has even elements\")\n",
    "        median = (x[int(len(x)/2 - 1)] + x[int(len(x)/2)]) / 2  # See the image above\n",
    "\n",
    "    print(median)"
   ]
  },
  {
   "cell_type": "code",
   "execution_count": 14,
   "metadata": {
    "colab": {
     "base_uri": "https://localhost:8080/"
    },
    "executionInfo": {
     "elapsed": 16,
     "status": "ok",
     "timestamp": 1644569986581,
     "user": {
      "displayName": "sulaiman mahmoud",
      "photoUrl": "https://lh3.googleusercontent.com/a/default-user=s64",
      "userId": "09395126489755828051"
     },
     "user_tz": -120
    },
    "id": "ATCWuJ3BAYRU",
    "outputId": "dffe3204-f863-45ff-b041-ce1526e6e63d"
   },
   "outputs": [
    {
     "name": "stdout",
     "output_type": "stream",
     "text": [
      "[1, 3, 3, 6, 7, 8, 9]\n",
      "the list has odd elements\n",
      "6\n",
      "[1, 2, 3, 4, 5, 6, 8, 9]\n",
      "the list has even elements\n",
      "4.5\n"
     ]
    }
   ],
   "source": [
    "# Odd\n",
    "x = [6, 3, 8, 1, 7, 9, 3]\n",
    "median(x)\n",
    "\n",
    "# Even\n",
    "x = [6, 3, 2, 8, 9, 1, 5, 4]\n",
    "median(x)"
   ]
  },
  {
   "cell_type": "markdown",
   "metadata": {
    "id": "b7pAP15aAYRV"
   },
   "source": [
    "**Using NumPy to find the median:**"
   ]
  },
  {
   "cell_type": "code",
   "execution_count": 3,
   "metadata": {
    "colab": {
     "base_uri": "https://localhost:8080/"
    },
    "executionInfo": {
     "elapsed": 13,
     "status": "ok",
     "timestamp": 1644569986583,
     "user": {
      "displayName": "sulaiman mahmoud",
      "photoUrl": "https://lh3.googleusercontent.com/a/default-user=s64",
      "userId": "09395126489755828051"
     },
     "user_tz": -120
    },
    "id": "FvhbkIdcAYRV",
    "outputId": "24324123-0d43-4d15-af1d-8898a529c385"
   },
   "outputs": [
    {
     "name": "stdout",
     "output_type": "stream",
     "text": [
      "6.0\n",
      "4.5\n"
     ]
    }
   ],
   "source": [
    "import numpy as np\n",
    "\n",
    "x = np.array([6, 3, 8, 1, 7, 9, 3])\n",
    "# sort = [1,3,3,6,7,8,9]\n",
    "print(np.median(x))\n",
    "\n",
    "# Even\n",
    "x = np.array([6, 3, 2, 8, 9, 1, 5, 4])\n",
    "print(np.median(x))"
   ]
  },
  {
   "cell_type": "markdown",
   "metadata": {
    "id": "uagZ8qDWAYRW"
   },
   "source": [
    "**So Basically NumPy is better at doing this kind of operations on data. This is why we are going to use it from now on**\n",
    "\n",
    "*We are not very interested in the (mode) so we will not discuss it here. Feel free to read about it online.*"
   ]
  },
  {
   "cell_type": "markdown",
   "metadata": {
    "id": "DZxcLCWJAYRW"
   },
   "source": [
    "## Mean VS Median\n",
    "\n",
    "As mentioned above, these central tendency measures tend to give us a representative value of the data (where the data is centered). \n",
    "\n",
    "* If the data is symmetric (normally distributed), then **the mean and the median are the same**.\n",
    "* If the data is skewed, then **the median has the better value to represent the data**."
   ]
  },
  {
   "cell_type": "markdown",
   "metadata": {
    "id": "Fwn09HKmAYRX"
   },
   "source": [
    "# Standard Deviation σ\n",
    "\n",
    "*measures the dispersion of a dataset relative to its mean*\n",
    "\n",
    "Read more [here](https://www.investopedia.com/terms/s/standarddeviation.asp#:~:text=The%20standard%20deviation%20is%20a,square%20root%20of%20the%20variance.&text=If%20the%20data%20points%20are,the%20higher%20the%20standard%20deviation.) to understand the theory behind it and what it exactly means"
   ]
  },
  {
   "cell_type": "markdown",
   "metadata": {
    "id": "GCNhREDNAYRX"
   },
   "source": [
    "**We can find the standard deviation for any array easily using NumPy:**"
   ]
  },
  {
   "cell_type": "code",
   "execution_count": 15,
   "metadata": {
    "id": "6Hf-uAP-AYRY",
    "outputId": "e9fda777-f03d-4bec-ac60-a912d9069a8f"
   },
   "outputs": [
    {
     "name": "stdout",
     "output_type": "stream",
     "text": [
      "0.29599822663249037\n"
     ]
    }
   ],
   "source": [
    "# Create a random array\n",
    "np.random.seed(42)\n",
    "x = np.random.rand(100)\n",
    "\n",
    "std = np.std(x)\n",
    "\n",
    "print(std)"
   ]
  },
  {
   "cell_type": "markdown",
   "metadata": {
    "id": "Uh9mOYtIAYRY"
   },
   "source": [
    "# Empirical Rule\n",
    "\n",
    "**The empirical rule states that:**\n",
    "\n",
    "### *For a normal distribution, almost all observed data will fall within three standard deviations (denoted by σ) of the mean or average (denoted by µ).*\n",
    "\n",
    "\n",
    "**In particular, the empirical rule predicts that:**\n",
    "* **68% of observations falls within the first standard deviation (µ ± σ)**\n",
    "* **95% within the first two standard deviations (µ ± 2σ)**\n",
    "* **and 99.7% within the first three standard deviations (µ ± 3σ).**\n",
    "-----------------------------------------------\n",
    "**µ and σ can be calculated using the methods above**\n",
    "\n",
    "**The data has to be normally distributed (have a symmetric shape around the mean µ)**\n",
    "\n",
    "**Read more about the Empirical Rule [here](https://www.investopedia.com/terms/e/empirical-rule.asp)**\n",
    "\n",
    "-----------------------------------------------"
   ]
  },
  {
   "cell_type": "code",
   "execution_count": null,
   "metadata": {},
   "outputs": [],
   "source": []
  }
 ],
 "metadata": {
  "colab": {
   "name": "Statistics - Part 1.ipynb",
   "provenance": []
  },
  "kernelspec": {
   "display_name": "Python 3 (ipykernel)",
   "language": "python",
   "name": "python3"
  },
  "language_info": {
   "codemirror_mode": {
    "name": "ipython",
    "version": 3
   },
   "file_extension": ".py",
   "mimetype": "text/x-python",
   "name": "python",
   "nbconvert_exporter": "python",
   "pygments_lexer": "ipython3",
   "version": "3.9.7"
  }
 },
 "nbformat": 4,
 "nbformat_minor": 1
}
