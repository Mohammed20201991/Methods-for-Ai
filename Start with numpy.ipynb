{
 "cells": [
  {
   "cell_type": "code",
   "execution_count": 1,
   "id": "8a0d005f",
   "metadata": {
    "id": "8a0d005f"
   },
   "outputs": [
    {
     "name": "stderr",
     "output_type": "stream",
     "text": [
      "C:\\Users\\Mohammed\\anaconda3\\lib\\site-packages\\numpy\\_distributor_init.py:30: UserWarning: loaded more than 1 DLL from .libs:\n",
      "C:\\Users\\Mohammed\\anaconda3\\lib\\site-packages\\numpy\\.libs\\libopenblas.EL2C6PLE4ZYW3ECEVIV3OXXGRN2NRFM2.gfortran-win_amd64.dll\n",
      "C:\\Users\\Mohammed\\anaconda3\\lib\\site-packages\\numpy\\.libs\\libopenblas.XWYDX2IKJW2NMTWSFYNGFUWKQU3LYTCZ.gfortran-win_amd64.dll\n",
      "  warnings.warn(\"loaded more than 1 DLL from .libs:\"\n"
     ]
    }
   ],
   "source": [
    "import numpy as np\n",
    "import pandas as pd"
   ]
  },
  {
   "cell_type": "markdown",
   "id": "d5350bb8",
   "metadata": {
    "id": "d5350bb8"
   },
   "source": [
    "# Mathematical operations"
   ]
  },
  {
   "cell_type": "code",
   "execution_count": 2,
   "id": "40cc9879",
   "metadata": {
    "colab": {
     "base_uri": "https://localhost:8080/"
    },
    "executionInfo": {
     "elapsed": 296,
     "status": "ok",
     "timestamp": 1644075913226,
     "user": {
      "displayName": "Yaheaal",
      "photoUrl": "https://lh3.googleusercontent.com/a-/AOh14GgoE49Jj8XRaT0ZkUB-uc5rP5cDV-d6ZY1nv6xY=s64",
      "userId": "00430625077795301584"
     },
     "user_tz": -120
    },
    "id": "40cc9879",
    "outputId": "8649fda4-8a24-4bdb-fb3a-4c3186c57bbb"
   },
   "outputs": [
    {
     "name": "stdout",
     "output_type": "stream",
     "text": [
      "-0.9880316240928618 0.15425144988758405 -6.405331196646276\n"
     ]
    }
   ],
   "source": [
    "# radians\n",
    "\n",
    "a = np.sin(30)\n",
    "b = np.cos(30)\n",
    "c = np.tan(30)\n",
    "\n",
    "print(a, b, c)"
   ]
  },
  {
   "cell_type": "code",
   "execution_count": 3,
   "id": "9f9ba897",
   "metadata": {
    "colab": {
     "base_uri": "https://localhost:8080/"
    },
    "executionInfo": {
     "elapsed": 357,
     "status": "ok",
     "timestamp": 1644075920153,
     "user": {
      "displayName": "Yaheaal",
      "photoUrl": "https://lh3.googleusercontent.com/a-/AOh14GgoE49Jj8XRaT0ZkUB-uc5rP5cDV-d6ZY1nv6xY=s64",
      "userId": "00430625077795301584"
     },
     "user_tz": -120
    },
    "id": "9f9ba897",
    "outputId": "b850edc2-b938-4e85-bd6d-be2a061a0b9a",
    "scrolled": true
   },
   "outputs": [
    {
     "name": "stdout",
     "output_type": "stream",
     "text": [
      "0.49999999999999994 0.8660254037844387 0.5773502691896257\n"
     ]
    }
   ],
   "source": [
    "# degree\n",
    "\n",
    "a = np.sin(30*np.pi/180)\n",
    "b = np.cos(30*np.pi/180)\n",
    "c = np.tan(30*np.pi/180)\n",
    "\n",
    "print(a, b, c)"
   ]
  },
  {
   "cell_type": "markdown",
   "id": "4e8d0c84",
   "metadata": {
    "id": "4e8d0c84"
   },
   "source": [
    "# round, floor, ceil"
   ]
  },
  {
   "cell_type": "code",
   "execution_count": 4,
   "id": "c70f4270",
   "metadata": {
    "colab": {
     "base_uri": "https://localhost:8080/"
    },
    "executionInfo": {
     "elapsed": 4,
     "status": "ok",
     "timestamp": 1644076059785,
     "user": {
      "displayName": "Yaheaal",
      "photoUrl": "https://lh3.googleusercontent.com/a-/AOh14GgoE49Jj8XRaT0ZkUB-uc5rP5cDV-d6ZY1nv6xY=s64",
      "userId": "00430625077795301584"
     },
     "user_tz": -120
    },
    "id": "c70f4270",
    "outputId": "fce103e2-920d-4088-9bc7-80932bea1da1"
   },
   "outputs": [
    {
     "name": "stdout",
     "output_type": "stream",
     "text": [
      "3.0\n",
      "4.0\n",
      "4.0\n"
     ]
    }
   ],
   "source": [
    "print(np.round(3.2))\n",
    "print(np.round(3.8))\n",
    "print(np.round(3.5))"
   ]
  },
  {
   "cell_type": "code",
   "execution_count": 5,
   "id": "a61a1a37",
   "metadata": {
    "colab": {
     "base_uri": "https://localhost:8080/"
    },
    "executionInfo": {
     "elapsed": 14,
     "status": "ok",
     "timestamp": 1644053665316,
     "user": {
      "displayName": "Yaheaal",
      "photoUrl": "https://lh3.googleusercontent.com/a-/AOh14GgoE49Jj8XRaT0ZkUB-uc5rP5cDV-d6ZY1nv6xY=s64",
      "userId": "00430625077795301584"
     },
     "user_tz": -120
    },
    "id": "a61a1a37",
    "outputId": "d061a763-dfb4-4ecd-b0ba-f53a63c9781d",
    "scrolled": true
   },
   "outputs": [
    {
     "name": "stdout",
     "output_type": "stream",
     "text": [
      "2.0\n",
      "2.0\n"
     ]
    }
   ],
   "source": [
    "print(np.floor(2.9))\n",
    "print(np.floor(2.2))"
   ]
  },
  {
   "cell_type": "code",
   "execution_count": 6,
   "id": "4915605f",
   "metadata": {
    "colab": {
     "base_uri": "https://localhost:8080/"
    },
    "executionInfo": {
     "elapsed": 14,
     "status": "ok",
     "timestamp": 1644053665316,
     "user": {
      "displayName": "Yaheaal",
      "photoUrl": "https://lh3.googleusercontent.com/a-/AOh14GgoE49Jj8XRaT0ZkUB-uc5rP5cDV-d6ZY1nv6xY=s64",
      "userId": "00430625077795301584"
     },
     "user_tz": -120
    },
    "id": "4915605f",
    "outputId": "f50dd7bf-255f-4e22-c355-50b38a4b9414"
   },
   "outputs": [
    {
     "name": "stdout",
     "output_type": "stream",
     "text": [
      "2.0\n",
      "2.0\n"
     ]
    }
   ],
   "source": [
    "print(np.floor(2.9))\n",
    "print(np.floor(2.2))"
   ]
  },
  {
   "cell_type": "code",
   "execution_count": 7,
   "id": "H25GIIyTkrom",
   "metadata": {
    "colab": {
     "base_uri": "https://localhost:8080/"
    },
    "executionInfo": {
     "elapsed": 3,
     "status": "ok",
     "timestamp": 1644076145172,
     "user": {
      "displayName": "Yaheaal",
      "photoUrl": "https://lh3.googleusercontent.com/a-/AOh14GgoE49Jj8XRaT0ZkUB-uc5rP5cDV-d6ZY1nv6xY=s64",
      "userId": "00430625077795301584"
     },
     "user_tz": -120
    },
    "id": "H25GIIyTkrom",
    "outputId": "3889a83b-05d5-4e37-b1f6-159bc45423d3"
   },
   "outputs": [
    {
     "name": "stdout",
     "output_type": "stream",
     "text": [
      "1.0\n",
      "5.0\n"
     ]
    }
   ],
   "source": [
    "print(np.ceil(.6))\n",
    "print(np.ceil(4.1))"
   ]
  },
  {
   "cell_type": "markdown",
   "id": "5871ecea",
   "metadata": {
    "id": "5871ecea"
   },
   "source": [
    "# Arrays"
   ]
  },
  {
   "cell_type": "code",
   "execution_count": 8,
   "id": "917c97f6",
   "metadata": {
    "colab": {
     "base_uri": "https://localhost:8080/"
    },
    "executionInfo": {
     "elapsed": 299,
     "status": "ok",
     "timestamp": 1644076383047,
     "user": {
      "displayName": "Yaheaal",
      "photoUrl": "https://lh3.googleusercontent.com/a-/AOh14GgoE49Jj8XRaT0ZkUB-uc5rP5cDV-d6ZY1nv6xY=s64",
      "userId": "00430625077795301584"
     },
     "user_tz": -120
    },
    "id": "917c97f6",
    "outputId": "e77f9b62-8ae5-4e85-faf4-dd412ad4a325"
   },
   "outputs": [
    {
     "name": "stdout",
     "output_type": "stream",
     "text": [
      "<class 'list'>\n",
      "[1, 2, 3, 4, 5]\n",
      "<class 'list'>\n",
      "[1 2 3 4 5]\n"
     ]
    }
   ],
   "source": [
    "a = [1,2,3,4,5]\n",
    "print(type(list(a)))\n",
    "b = np.array(a)\n",
    "\n",
    "print(a)\n",
    "print(type(list(b)))\n",
    "print(b)"
   ]
  },
  {
   "cell_type": "code",
   "execution_count": 9,
   "id": "5df3ba03",
   "metadata": {
    "colab": {
     "base_uri": "https://localhost:8080/"
    },
    "executionInfo": {
     "elapsed": 302,
     "status": "ok",
     "timestamp": 1644076386314,
     "user": {
      "displayName": "Yaheaal",
      "photoUrl": "https://lh3.googleusercontent.com/a-/AOh14GgoE49Jj8XRaT0ZkUB-uc5rP5cDV-d6ZY1nv6xY=s64",
      "userId": "00430625077795301584"
     },
     "user_tz": -120
    },
    "id": "5df3ba03",
    "outputId": "848af152-f7c3-43ea-825f-92f47b87d03d"
   },
   "outputs": [
    {
     "name": "stdout",
     "output_type": "stream",
     "text": [
      "[[1, 2, 3], [5, 3, 6], [9, 6, 5]]\n",
      "[[1 2 3]\n",
      " [5 3 6]\n",
      " [9 6 5]]\n"
     ]
    }
   ],
   "source": [
    "a = [[1,2,3],[5,3,6],[9,6,5]]\n",
    "b = np.array(a)\n",
    "\n",
    "print(a)\n",
    "print(b)"
   ]
  },
  {
   "cell_type": "code",
   "execution_count": 10,
   "id": "ae6f308f",
   "metadata": {
    "colab": {
     "base_uri": "https://localhost:8080/"
    },
    "executionInfo": {
     "elapsed": 3,
     "status": "ok",
     "timestamp": 1644076671494,
     "user": {
      "displayName": "Yaheaal",
      "photoUrl": "https://lh3.googleusercontent.com/a-/AOh14GgoE49Jj8XRaT0ZkUB-uc5rP5cDV-d6ZY1nv6xY=s64",
      "userId": "00430625077795301584"
     },
     "user_tz": -120
    },
    "id": "ae6f308f",
    "outputId": "07722203-efef-4b7b-a70b-7d8463e72de0"
   },
   "outputs": [
    {
     "name": "stdout",
     "output_type": "stream",
     "text": [
      "[[2 3 4]\n",
      " [4 5 6]\n",
      " [6 7 8]]\n"
     ]
    }
   ],
   "source": [
    "a = np.array([range(i, i + 3) for i in [2, 4, 6]])\n",
    "\n",
    "print(a)"
   ]
  },
  {
   "cell_type": "code",
   "execution_count": 11,
   "id": "14ef0d21",
   "metadata": {
    "colab": {
     "base_uri": "https://localhost:8080/"
    },
    "executionInfo": {
     "elapsed": 287,
     "status": "ok",
     "timestamp": 1644076725815,
     "user": {
      "displayName": "Yaheaal",
      "photoUrl": "https://lh3.googleusercontent.com/a-/AOh14GgoE49Jj8XRaT0ZkUB-uc5rP5cDV-d6ZY1nv6xY=s64",
      "userId": "00430625077795301584"
     },
     "user_tz": -120
    },
    "id": "14ef0d21",
    "outputId": "a3f8c937-04d4-4512-c795-7e7b8a1c1e2f"
   },
   "outputs": [
    {
     "name": "stdout",
     "output_type": "stream",
     "text": [
      "[[0. 0. 0.]\n",
      " [0. 0. 0.]]\n"
     ]
    }
   ],
   "source": [
    "a = np.empty((2,3))\n",
    "print(a)"
   ]
  },
  {
   "cell_type": "markdown",
   "id": "a68fcb26",
   "metadata": {
    "id": "a68fcb26"
   },
   "source": [
    "# Random"
   ]
  },
  {
   "cell_type": "code",
   "execution_count": 12,
   "id": "ad9ac376",
   "metadata": {
    "id": "ad9ac376"
   },
   "outputs": [
    {
     "name": "stdout",
     "output_type": "stream",
     "text": [
      "7.828838226218262\n",
      "-------------------------\n",
      "[1.38810895 3.1394241  3.24175251 8.51898244 7.5081763  1.08507114\n",
      " 7.80727102 2.32277256 5.59530861 7.68777698 6.31102737 7.98438526\n",
      " 8.14472727 8.17689629 4.72446163 5.59944733 3.08754415 5.69075302\n",
      " 5.38465699 7.10382101]\n",
      "-------------------------\n"
     ]
    }
   ],
   "source": [
    "a = np.random.uniform(1,10)\n",
    "b = np.random.uniform(1,10,20)\n",
    "\n",
    "print(a)\n",
    "print('-------------------------')\n",
    "print(b)\n",
    "print('-------------------------')"
   ]
  },
  {
   "cell_type": "code",
   "execution_count": 13,
   "id": "AXU7fjrrYe3d",
   "metadata": {
    "colab": {
     "base_uri": "https://localhost:8080/",
     "height": 283
    },
    "executionInfo": {
     "elapsed": 1095,
     "status": "ok",
     "timestamp": 1644240776134,
     "user": {
      "displayName": "Yaheaal",
      "photoUrl": "https://lh3.googleusercontent.com/a-/AOh14GgoE49Jj8XRaT0ZkUB-uc5rP5cDV-d6ZY1nv6xY=s64",
      "userId": "00430625077795301584"
     },
     "user_tz": -120
    },
    "id": "AXU7fjrrYe3d",
    "outputId": "6ba93a9d-a463-4955-cc2b-4ec4be9919d1"
   },
   "outputs": [
    {
     "data": {
      "text/plain": [
       "<AxesSubplot:ylabel='Frequency'>"
      ]
     },
     "execution_count": 13,
     "metadata": {},
     "output_type": "execute_result"
    },
    {
     "data": {
      "image/png": "[encoded data removed]",
      "text/plain": [
       "<Figure size 432x288 with 1 Axes>"
      ]
     },
     "metadata": {
      "needs_background": "light"
     },
     "output_type": "display_data"
    }
   ],
   "source": [
    "pd.Series(np.random.uniform(1,10,1000)).plot(kind='hist', bins=100)"
   ]
  },
  {
   "cell_type": "code",
   "execution_count": 14,
   "id": "5139ef61",
   "metadata": {
    "colab": {
     "base_uri": "https://localhost:8080/"
    },
    "executionInfo": {
     "elapsed": 256,
     "status": "ok",
     "timestamp": 1644240850407,
     "user": {
      "displayName": "Yaheaal",
      "photoUrl": "https://lh3.googleusercontent.com/a-/AOh14GgoE49Jj8XRaT0ZkUB-uc5rP5cDV-d6ZY1nv6xY=s64",
      "userId": "00430625077795301584"
     },
     "user_tz": -120
    },
    "id": "5139ef61",
    "outputId": "7a9c4a3a-167d-41e6-9560-c5cd1a91af04"
   },
   "outputs": [
    {
     "name": "stdout",
     "output_type": "stream",
     "text": [
      "[[0.12053544 0.44973017 0.37885125]\n",
      " [0.35473148 0.26017084 0.1458768 ]]\n"
     ]
    }
   ],
   "source": [
    "a = np.random.random((2,3))\n",
    "print(a)"
   ]
  },
  {
   "cell_type": "code",
   "execution_count": 15,
   "id": "c00b7256",
   "metadata": {
    "colab": {
     "base_uri": "https://localhost:8080/"
    },
    "executionInfo": {
     "elapsed": 282,
     "status": "ok",
     "timestamp": 1644240853628,
     "user": {
      "displayName": "Yaheaal",
      "photoUrl": "https://lh3.googleusercontent.com/a-/AOh14GgoE49Jj8XRaT0ZkUB-uc5rP5cDV-d6ZY1nv6xY=s64",
      "userId": "00430625077795301584"
     },
     "user_tz": -120
    },
    "id": "c00b7256",
    "outputId": "f84456dd-0ba3-4ac8-f56f-9fb0ac4b641c"
   },
   "outputs": [
    {
     "name": "stdout",
     "output_type": "stream",
     "text": [
      "[-0.40262831 -1.81382697  2.43507589  0.94143617  0.40564483  2.69627699\n",
      "  0.26511925 -1.17195404 -0.02727584  1.00928448]\n"
     ]
    }
   ],
   "source": [
    "a = np.random.normal(0,1,10)\n",
    "print(a)"
   ]
  },
  {
   "cell_type": "code",
   "execution_count": 16,
   "id": "L-MCU9reZF7v",
   "metadata": {
    "colab": {
     "base_uri": "https://localhost:8080/",
     "height": 283
    },
    "executionInfo": {
     "elapsed": 693,
     "status": "ok",
     "timestamp": 1644240863744,
     "user": {
      "displayName": "Yaheaal",
      "photoUrl": "https://lh3.googleusercontent.com/a-/AOh14GgoE49Jj8XRaT0ZkUB-uc5rP5cDV-d6ZY1nv6xY=s64",
      "userId": "00430625077795301584"
     },
     "user_tz": -120
    },
    "id": "L-MCU9reZF7v",
    "outputId": "0e81fd74-a141-4c42-ad03-5eb1bdd13ee0"
   },
   "outputs": [
    {
     "data": {
      "text/plain": [
       "<AxesSubplot:ylabel='Frequency'>"
      ]
     },
     "execution_count": 16,
     "metadata": {},
     "output_type": "execute_result"
    },
    {
     "data": {
      "image/png": "[encoded data removed]",
      "text/plain": [
       "<Figure size 432x288 with 1 Axes>"
      ]
     },
     "metadata": {
      "needs_background": "light"
     },
     "output_type": "display_data"
    }
   ],
   "source": [
    "pd.Series(np.random.normal(1,10,1000)).plot(kind='hist', bins=100)"
   ]
  },
  {
   "cell_type": "code",
   "execution_count": 17,
   "id": "2aa77d96",
   "metadata": {
    "colab": {
     "base_uri": "https://localhost:8080/"
    },
    "executionInfo": {
     "elapsed": 266,
     "status": "ok",
     "timestamp": 1644241071088,
     "user": {
      "displayName": "Yaheaal",
      "photoUrl": "https://lh3.googleusercontent.com/a-/AOh14GgoE49Jj8XRaT0ZkUB-uc5rP5cDV-d6ZY1nv6xY=s64",
      "userId": "00430625077795301584"
     },
     "user_tz": -120
    },
    "id": "2aa77d96",
    "outputId": "3cb960b5-1d36-41e1-a819-d6f6a6db6099"
   },
   "outputs": [
    {
     "name": "stdout",
     "output_type": "stream",
     "text": [
      "110\n",
      "[[6 5 8]\n",
      " [5 9 7]\n",
      " [1 8 7]]\n"
     ]
    }
   ],
   "source": [
    "a = np.random.randint(150)\n",
    "b = np.random.randint(1, 10, size=(3,3))\n",
    "\n",
    "print(a)\n",
    "print(b)"
   ]
  },
  {
   "cell_type": "code",
   "execution_count": 18,
   "id": "a0fb9f22",
   "metadata": {
    "colab": {
     "base_uri": "https://localhost:8080/"
    },
    "executionInfo": {
     "elapsed": 24,
     "status": "ok",
     "timestamp": 1644053665966,
     "user": {
      "displayName": "Yaheaal",
      "photoUrl": "https://lh3.googleusercontent.com/a-/AOh14GgoE49Jj8XRaT0ZkUB-uc5rP5cDV-d6ZY1nv6xY=s64",
      "userId": "00430625077795301584"
     },
     "user_tz": -120
    },
    "id": "a0fb9f22",
    "outputId": "2f21d14d-1c10-4e74-bbef-e08555d2d444"
   },
   "outputs": [
    {
     "name": "stdout",
     "output_type": "stream",
     "text": [
      "(3, 3)\n",
      "9\n"
     ]
    }
   ],
   "source": [
    "print(b.shape)\n",
    "print(b.size)"
   ]
  },
  {
   "cell_type": "code",
   "execution_count": 19,
   "id": "ySMbhLuKaICB",
   "metadata": {
    "colab": {
     "base_uri": "https://localhost:8080/"
    },
    "executionInfo": {
     "elapsed": 352,
     "status": "ok",
     "timestamp": 1644241145989,
     "user": {
      "displayName": "Yaheaal",
      "photoUrl": "https://lh3.googleusercontent.com/a-/AOh14GgoE49Jj8XRaT0ZkUB-uc5rP5cDV-d6ZY1nv6xY=s64",
      "userId": "00430625077795301584"
     },
     "user_tz": -120
    },
    "id": "ySMbhLuKaICB",
    "outputId": "8c605a6c-fe47-44cc-8203-4991c41353fe"
   },
   "outputs": [
    {
     "data": {
      "text/plain": [
       "9"
      ]
     },
     "execution_count": 19,
     "metadata": {},
     "output_type": "execute_result"
    }
   ],
   "source": [
    "b.shape[0] * b.shape[1]"
   ]
  },
  {
   "cell_type": "code",
   "execution_count": 20,
   "id": "bfc4c34c",
   "metadata": {
    "colab": {
     "base_uri": "https://localhost:8080/"
    },
    "executionInfo": {
     "elapsed": 349,
     "status": "ok",
     "timestamp": 1644241197580,
     "user": {
      "displayName": "Yaheaal",
      "photoUrl": "https://lh3.googleusercontent.com/a-/AOh14GgoE49Jj8XRaT0ZkUB-uc5rP5cDV-d6ZY1nv6xY=s64",
      "userId": "00430625077795301584"
     },
     "user_tz": -120
    },
    "id": "bfc4c34c",
    "outputId": "060fc471-1ba2-471b-bbf5-a4c568e5718f"
   },
   "outputs": [
    {
     "data": {
      "text/plain": [
       "(1, 9)"
      ]
     },
     "execution_count": 20,
     "metadata": {},
     "output_type": "execute_result"
    }
   ],
   "source": [
    "b.reshape(1,9).shape"
   ]
  },
  {
   "cell_type": "code",
   "execution_count": 21,
   "id": "95cbeb3e",
   "metadata": {
    "colab": {
     "base_uri": "https://localhost:8080/"
    },
    "executionInfo": {
     "elapsed": 2,
     "status": "ok",
     "timestamp": 1644241238872,
     "user": {
      "displayName": "Yaheaal",
      "photoUrl": "https://lh3.googleusercontent.com/a-/AOh14GgoE49Jj8XRaT0ZkUB-uc5rP5cDV-d6ZY1nv6xY=s64",
      "userId": "00430625077795301584"
     },
     "user_tz": -120
    },
    "id": "95cbeb3e",
    "outputId": "304d574e-7952-4a3e-c777-2a6bd1a299b4"
   },
   "outputs": [
    {
     "name": "stdout",
     "output_type": "stream",
     "text": [
      "[0.1506866  0.26946374 0.67997444 0.40977576 0.93886654 0.09162765\n",
      " 0.85980994 0.58803688 0.01507214 0.81236583 0.99014244 0.81113776\n",
      " 0.45023295 0.11665091 0.45731234]\n"
     ]
    }
   ],
   "source": [
    "a = np.random.rand(15)\n",
    "print(a)"
   ]
  },
  {
   "cell_type": "code",
   "execution_count": 22,
   "id": "2c08e25a",
   "metadata": {
    "colab": {
     "base_uri": "https://localhost:8080/"
    },
    "executionInfo": {
     "elapsed": 289,
     "status": "ok",
     "timestamp": 1644242450851,
     "user": {
      "displayName": "Yaheaal",
      "photoUrl": "https://lh3.googleusercontent.com/a-/AOh14GgoE49Jj8XRaT0ZkUB-uc5rP5cDV-d6ZY1nv6xY=s64",
      "userId": "00430625077795301584"
     },
     "user_tz": -120
    },
    "id": "2c08e25a",
    "outputId": "1fabb600-d759-41ae-eea4-1e03665e137b"
   },
   "outputs": [
    {
     "name": "stdout",
     "output_type": "stream",
     "text": [
      "3\n"
     ]
    }
   ],
   "source": [
    "y=[1,2,3,6,9,8,5,4,7,8,9,6,5,9,6]\n",
    "a = np.random.choice(y)\n",
    "print(a)"
   ]
  },
  {
   "cell_type": "code",
   "execution_count": 23,
   "id": "130097e9",
   "metadata": {
    "colab": {
     "base_uri": "https://localhost:8080/"
    },
    "executionInfo": {
     "elapsed": 2,
     "status": "ok",
     "timestamp": 1644242452591,
     "user": {
      "displayName": "Yaheaal",
      "photoUrl": "https://lh3.googleusercontent.com/a-/AOh14GgoE49Jj8XRaT0ZkUB-uc5rP5cDV-d6ZY1nv6xY=s64",
      "userId": "00430625077795301584"
     },
     "user_tz": -120
    },
    "id": "130097e9",
    "outputId": "fe8f652c-a11e-4248-95f5-eff2027f9fd3"
   },
   "outputs": [
    {
     "name": "stdout",
     "output_type": "stream",
     "text": [
      "[1, 2, 3, 6, 9, 8, 5, 4, 7, 8, 9, 6, 5, 9, 6]\n"
     ]
    }
   ],
   "source": [
    "print(y)"
   ]
  },
  {
   "cell_type": "code",
   "execution_count": 24,
   "id": "71183d8a",
   "metadata": {
    "id": "71183d8a"
   },
   "outputs": [],
   "source": [
    "np.random.shuffle(y)"
   ]
  },
  {
   "cell_type": "code",
   "execution_count": 25,
   "id": "c4de5014",
   "metadata": {
    "colab": {
     "base_uri": "https://localhost:8080/"
    },
    "executionInfo": {
     "elapsed": 3,
     "status": "ok",
     "timestamp": 1644242464005,
     "user": {
      "displayName": "Yaheaal",
      "photoUrl": "https://lh3.googleusercontent.com/a-/AOh14GgoE49Jj8XRaT0ZkUB-uc5rP5cDV-d6ZY1nv6xY=s64",
      "userId": "00430625077795301584"
     },
     "user_tz": -120
    },
    "id": "c4de5014",
    "outputId": "7fb88244-5940-4072-9a0b-ef70292737c8"
   },
   "outputs": [
    {
     "name": "stdout",
     "output_type": "stream",
     "text": [
      "[6, 9, 2, 9, 9, 3, 8, 8, 6, 4, 1, 5, 7, 6, 5]\n"
     ]
    }
   ],
   "source": [
    "print(y)"
   ]
  },
  {
   "cell_type": "code",
   "execution_count": 26,
   "id": "NLfJByh6a_Go",
   "metadata": {
    "colab": {
     "base_uri": "https://localhost:8080/"
    },
    "executionInfo": {
     "elapsed": 2,
     "status": "ok",
     "timestamp": 1644241361317,
     "user": {
      "displayName": "Yaheaal",
      "photoUrl": "https://lh3.googleusercontent.com/a-/AOh14GgoE49Jj8XRaT0ZkUB-uc5rP5cDV-d6ZY1nv6xY=s64",
      "userId": "00430625077795301584"
     },
     "user_tz": -120
    },
    "id": "NLfJByh6a_Go",
    "outputId": "4fc89f23-c282-4101-ec07-44e6451090b4"
   },
   "outputs": [
    {
     "data": {
      "text/plain": [
       "array([[0.47914597, 0.52072853]])"
      ]
     },
     "execution_count": 26,
     "metadata": {},
     "output_type": "execute_result"
    }
   ],
   "source": [
    "np.random.random((1,2))"
   ]
  },
  {
   "cell_type": "code",
   "execution_count": 27,
   "id": "l2FAClI7a_w2",
   "metadata": {
    "colab": {
     "base_uri": "https://localhost:8080/"
    },
    "executionInfo": {
     "elapsed": 3,
     "status": "ok",
     "timestamp": 1644241367333,
     "user": {
      "displayName": "Yaheaal",
      "photoUrl": "https://lh3.googleusercontent.com/a-/AOh14GgoE49Jj8XRaT0ZkUB-uc5rP5cDV-d6ZY1nv6xY=s64",
      "userId": "00430625077795301584"
     },
     "user_tz": -120
    },
    "id": "l2FAClI7a_w2",
    "outputId": "d1802384-d747-48e7-aed1-99aadfe7e751"
   },
   "outputs": [
    {
     "data": {
      "text/plain": [
       "array([[0.04314593, 0.72816304]])"
      ]
     },
     "execution_count": 27,
     "metadata": {},
     "output_type": "execute_result"
    }
   ],
   "source": [
    "np.random.rand(1,2)"
   ]
  },
  {
   "cell_type": "markdown",
   "id": "6d40f2c3",
   "metadata": {
    "id": "6d40f2c3"
   },
   "source": [
    "# zeros and ones"
   ]
  },
  {
   "cell_type": "code",
   "execution_count": 28,
   "id": "bb47838b",
   "metadata": {
    "colab": {
     "base_uri": "https://localhost:8080/"
    },
    "executionInfo": {
     "elapsed": 22,
     "status": "ok",
     "timestamp": 1644053665970,
     "user": {
      "displayName": "Yaheaal",
      "photoUrl": "https://lh3.googleusercontent.com/a-/AOh14GgoE49Jj8XRaT0ZkUB-uc5rP5cDV-d6ZY1nv6xY=s64",
      "userId": "00430625077795301584"
     },
     "user_tz": -120
    },
    "id": "bb47838b",
    "outputId": "aac0e506-9161-4964-a5d0-274a32016275"
   },
   "outputs": [
    {
     "name": "stdout",
     "output_type": "stream",
     "text": [
      "[0. 0. 0. 0. 0. 0. 0. 0.]\n",
      "[1. 1. 1. 1. 1. 1. 1. 1. 1. 1.]\n"
     ]
    }
   ],
   "source": [
    "a = np.zeros(8)\n",
    "b = np.ones(10)\n",
    "\n",
    "print(a)\n",
    "print(b)"
   ]
  },
  {
   "cell_type": "code",
   "execution_count": 29,
   "id": "9e950c2f",
   "metadata": {
    "colab": {
     "base_uri": "https://localhost:8080/"
    },
    "executionInfo": {
     "elapsed": 252,
     "status": "ok",
     "timestamp": 1644241676607,
     "user": {
      "displayName": "Yaheaal",
      "photoUrl": "https://lh3.googleusercontent.com/a-/AOh14GgoE49Jj8XRaT0ZkUB-uc5rP5cDV-d6ZY1nv6xY=s64",
      "userId": "00430625077795301584"
     },
     "user_tz": -120
    },
    "id": "9e950c2f",
    "outputId": "2bcac407-7378-457b-b93e-a9b2a481326e"
   },
   "outputs": [
    {
     "name": "stdout",
     "output_type": "stream",
     "text": [
      "[[1. 0. 0. 0. 0.]\n",
      " [0. 1. 0. 0. 0.]\n",
      " [0. 0. 1. 0. 0.]\n",
      " [0. 0. 0. 1. 0.]\n",
      " [0. 0. 0. 0. 1.]]\n"
     ]
    }
   ],
   "source": [
    "print(np.eye(5))"
   ]
  },
  {
   "cell_type": "code",
   "execution_count": 30,
   "id": "cad6d657",
   "metadata": {
    "colab": {
     "base_uri": "https://localhost:8080/"
    },
    "executionInfo": {
     "elapsed": 21,
     "status": "ok",
     "timestamp": 1644053665971,
     "user": {
      "displayName": "Yaheaal",
      "photoUrl": "https://lh3.googleusercontent.com/a-/AOh14GgoE49Jj8XRaT0ZkUB-uc5rP5cDV-d6ZY1nv6xY=s64",
      "userId": "00430625077795301584"
     },
     "user_tz": -120
    },
    "id": "cad6d657",
    "outputId": "b3f84cee-8ecc-4952-d3b6-abb9615482ff"
   },
   "outputs": [
    {
     "name": "stdout",
     "output_type": "stream",
     "text": [
      "[[35 35 35 35 35]\n",
      " [35 35 35 35 35]\n",
      " [35 35 35 35 35]]\n"
     ]
    }
   ],
   "source": [
    "print(np.full((3,5), 35))"
   ]
  },
  {
   "cell_type": "code",
   "execution_count": 31,
   "id": "cd1405dc",
   "metadata": {
    "colab": {
     "base_uri": "https://localhost:8080/"
    },
    "executionInfo": {
     "elapsed": 268,
     "status": "ok",
     "timestamp": 1644241832480,
     "user": {
      "displayName": "Yaheaal",
      "photoUrl": "https://lh3.googleusercontent.com/a-/AOh14GgoE49Jj8XRaT0ZkUB-uc5rP5cDV-d6ZY1nv6xY=s64",
      "userId": "00430625077795301584"
     },
     "user_tz": -120
    },
    "id": "cd1405dc",
    "outputId": "f9198c38-7006-4773-f248-f078e2b43b5f"
   },
   "outputs": [
    {
     "name": "stdout",
     "output_type": "stream",
     "text": [
      "[[ 0  1  2  3  4  5]\n",
      " [ 6  7  8  9 10 11]\n",
      " [12 13 14 15 16 17]]\n"
     ]
    }
   ],
   "source": [
    "a = np.arange(18).reshape(3,6)\n",
    "print(a)"
   ]
  },
  {
   "cell_type": "code",
   "execution_count": 32,
   "id": "ee4a0435",
   "metadata": {
    "colab": {
     "base_uri": "https://localhost:8080/"
    },
    "executionInfo": {
     "elapsed": 475,
     "status": "ok",
     "timestamp": 1644053666427,
     "user": {
      "displayName": "Yaheaal",
      "photoUrl": "https://lh3.googleusercontent.com/a-/AOh14GgoE49Jj8XRaT0ZkUB-uc5rP5cDV-d6ZY1nv6xY=s64",
      "userId": "00430625077795301584"
     },
     "user_tz": -120
    },
    "id": "ee4a0435",
    "outputId": "bcc4b606-3855-4e30-aa59-ceebf7ebc1d0"
   },
   "outputs": [
    {
     "name": "stdout",
     "output_type": "stream",
     "text": [
      "[  0.  25.  50.  75. 100.]\n"
     ]
    }
   ],
   "source": [
    "l = np.linspace(0, 100, 5)\n",
    "print(l)"
   ]
  },
  {
   "cell_type": "markdown",
   "id": "b6c23e5a",
   "metadata": {
    "id": "b6c23e5a"
   },
   "source": [
    "# Arrays operations"
   ]
  },
  {
   "cell_type": "code",
   "execution_count": 33,
   "id": "137cb8ea",
   "metadata": {
    "id": "137cb8ea"
   },
   "outputs": [],
   "source": [
    "a = np.array([1,2,3])\n",
    "b = np.array([4,5,6])"
   ]
  },
  {
   "cell_type": "code",
   "execution_count": 34,
   "id": "ad56fba5",
   "metadata": {
    "colab": {
     "base_uri": "https://localhost:8080/"
    },
    "executionInfo": {
     "elapsed": 18,
     "status": "ok",
     "timestamp": 1644053666428,
     "user": {
      "displayName": "Yaheaal",
      "photoUrl": "https://lh3.googleusercontent.com/a-/AOh14GgoE49Jj8XRaT0ZkUB-uc5rP5cDV-d6ZY1nv6xY=s64",
      "userId": "00430625077795301584"
     },
     "user_tz": -120
    },
    "id": "ad56fba5",
    "outputId": "ca5a2918-962b-44d0-c8a4-f312f843af27"
   },
   "outputs": [
    {
     "data": {
      "text/plain": [
       "array([2, 4, 6])"
      ]
     },
     "execution_count": 34,
     "metadata": {},
     "output_type": "execute_result"
    }
   ],
   "source": [
    "a * 2"
   ]
  },
  {
   "cell_type": "code",
   "execution_count": 35,
   "id": "bbc64cc5",
   "metadata": {
    "colab": {
     "base_uri": "https://localhost:8080/"
    },
    "executionInfo": {
     "elapsed": 16,
     "status": "ok",
     "timestamp": 1644053666428,
     "user": {
      "displayName": "Yaheaal",
      "photoUrl": "https://lh3.googleusercontent.com/a-/AOh14GgoE49Jj8XRaT0ZkUB-uc5rP5cDV-d6ZY1nv6xY=s64",
      "userId": "00430625077795301584"
     },
     "user_tz": -120
    },
    "id": "bbc64cc5",
    "outputId": "089bce38-a147-43ff-ae39-df2217f91fd3"
   },
   "outputs": [
    {
     "data": {
      "text/plain": [
       "array([-1,  0,  1])"
      ]
     },
     "execution_count": 35,
     "metadata": {},
     "output_type": "execute_result"
    }
   ],
   "source": [
    "a - 2"
   ]
  },
  {
   "cell_type": "code",
   "execution_count": 36,
   "id": "f61dd0ea",
   "metadata": {
    "colab": {
     "base_uri": "https://localhost:8080/"
    },
    "executionInfo": {
     "elapsed": 16,
     "status": "ok",
     "timestamp": 1644053666429,
     "user": {
      "displayName": "Yaheaal",
      "photoUrl": "https://lh3.googleusercontent.com/a-/AOh14GgoE49Jj8XRaT0ZkUB-uc5rP5cDV-d6ZY1nv6xY=s64",
      "userId": "00430625077795301584"
     },
     "user_tz": -120
    },
    "id": "f61dd0ea",
    "outputId": "c158d049-b08d-42af-b131-35f093e309be"
   },
   "outputs": [
    {
     "data": {
      "text/plain": [
       "array([ 1,  8, 27], dtype=int32)"
      ]
     },
     "execution_count": 36,
     "metadata": {},
     "output_type": "execute_result"
    }
   ],
   "source": [
    "a ** 3"
   ]
  },
  {
   "cell_type": "code",
   "execution_count": 37,
   "id": "cfe7dc38",
   "metadata": {
    "colab": {
     "base_uri": "https://localhost:8080/"
    },
    "executionInfo": {
     "elapsed": 283,
     "status": "ok",
     "timestamp": 1644242712426,
     "user": {
      "displayName": "Yaheaal",
      "photoUrl": "https://lh3.googleusercontent.com/a-/AOh14GgoE49Jj8XRaT0ZkUB-uc5rP5cDV-d6ZY1nv6xY=s64",
      "userId": "00430625077795301584"
     },
     "user_tz": -120
    },
    "id": "cfe7dc38",
    "outputId": "ec575261-160a-485d-aa25-95d7f6594dd9"
   },
   "outputs": [
    {
     "data": {
      "text/plain": [
       "array([ 4, 10, 18])"
      ]
     },
     "execution_count": 37,
     "metadata": {},
     "output_type": "execute_result"
    }
   ],
   "source": [
    "a * b"
   ]
  },
  {
   "cell_type": "code",
   "execution_count": 38,
   "id": "susUKc9efnmP",
   "metadata": {
    "colab": {
     "base_uri": "https://localhost:8080/"
    },
    "executionInfo": {
     "elapsed": 275,
     "status": "ok",
     "timestamp": 1644242674959,
     "user": {
      "displayName": "Yaheaal",
      "photoUrl": "https://lh3.googleusercontent.com/a-/AOh14GgoE49Jj8XRaT0ZkUB-uc5rP5cDV-d6ZY1nv6xY=s64",
      "userId": "00430625077795301584"
     },
     "user_tz": -120
    },
    "id": "susUKc9efnmP",
    "outputId": "6df272e5-60a8-403f-9938-b78db8f36628"
   },
   "outputs": [
    {
     "data": {
      "text/plain": [
       "32"
      ]
     },
     "execution_count": 38,
     "metadata": {},
     "output_type": "execute_result"
    }
   ],
   "source": [
    "a.dot(b)"
   ]
  },
  {
   "cell_type": "code",
   "execution_count": 39,
   "id": "7369d791",
   "metadata": {
    "colab": {
     "base_uri": "https://localhost:8080/"
    },
    "executionInfo": {
     "elapsed": 277,
     "status": "ok",
     "timestamp": 1644242732259,
     "user": {
      "displayName": "Yaheaal",
      "photoUrl": "https://lh3.googleusercontent.com/a-/AOh14GgoE49Jj8XRaT0ZkUB-uc5rP5cDV-d6ZY1nv6xY=s64",
      "userId": "00430625077795301584"
     },
     "user_tz": -120
    },
    "id": "7369d791",
    "outputId": "a5bbd42b-142a-4c5a-ae29-e5498f6a318e"
   },
   "outputs": [
    {
     "data": {
      "text/plain": [
       "array([-3, -3, -3])"
      ]
     },
     "execution_count": 39,
     "metadata": {},
     "output_type": "execute_result"
    }
   ],
   "source": [
    "a - b"
   ]
  },
  {
   "cell_type": "code",
   "execution_count": 40,
   "id": "4c9db821",
   "metadata": {
    "colab": {
     "base_uri": "https://localhost:8080/"
    },
    "executionInfo": {
     "elapsed": 257,
     "status": "ok",
     "timestamp": 1644242734454,
     "user": {
      "displayName": "Yaheaal",
      "photoUrl": "https://lh3.googleusercontent.com/a-/AOh14GgoE49Jj8XRaT0ZkUB-uc5rP5cDV-d6ZY1nv6xY=s64",
      "userId": "00430625077795301584"
     },
     "user_tz": -120
    },
    "id": "4c9db821",
    "outputId": "24a8a4f7-db23-4d4f-e357-0db0e318968c"
   },
   "outputs": [
    {
     "data": {
      "text/plain": [
       "array([3, 3, 3])"
      ]
     },
     "execution_count": 40,
     "metadata": {},
     "output_type": "execute_result"
    }
   ],
   "source": [
    "b - a"
   ]
  },
  {
   "cell_type": "code",
   "execution_count": 41,
   "id": "b65b1666",
   "metadata": {
    "colab": {
     "base_uri": "https://localhost:8080/"
    },
    "executionInfo": {
     "elapsed": 271,
     "status": "ok",
     "timestamp": 1644242737103,
     "user": {
      "displayName": "Yaheaal",
      "photoUrl": "https://lh3.googleusercontent.com/a-/AOh14GgoE49Jj8XRaT0ZkUB-uc5rP5cDV-d6ZY1nv6xY=s64",
      "userId": "00430625077795301584"
     },
     "user_tz": -120
    },
    "id": "b65b1666",
    "outputId": "4209cc26-26fc-484d-8dc3-584408de9388"
   },
   "outputs": [
    {
     "data": {
      "text/plain": [
       "2"
      ]
     },
     "execution_count": 41,
     "metadata": {},
     "output_type": "execute_result"
    }
   ],
   "source": [
    "a[1]"
   ]
  },
  {
   "cell_type": "code",
   "execution_count": 42,
   "id": "1b9ef061",
   "metadata": {
    "colab": {
     "base_uri": "https://localhost:8080/"
    },
    "executionInfo": {
     "elapsed": 335,
     "status": "ok",
     "timestamp": 1644242740816,
     "user": {
      "displayName": "Yaheaal",
      "photoUrl": "https://lh3.googleusercontent.com/a-/AOh14GgoE49Jj8XRaT0ZkUB-uc5rP5cDV-d6ZY1nv6xY=s64",
      "userId": "00430625077795301584"
     },
     "user_tz": -120
    },
    "id": "1b9ef061",
    "outputId": "2e11a047-b7e1-4e89-c363-3ef3d175eae4"
   },
   "outputs": [
    {
     "data": {
      "text/plain": [
       "array([1, 3])"
      ]
     },
     "execution_count": 42,
     "metadata": {},
     "output_type": "execute_result"
    }
   ],
   "source": [
    "a[[0, 2]]"
   ]
  },
  {
   "cell_type": "code",
   "execution_count": 43,
   "id": "KOPDCtQpgWvJ",
   "metadata": {
    "colab": {
     "base_uri": "https://localhost:8080/"
    },
    "executionInfo": {
     "elapsed": 4,
     "status": "ok",
     "timestamp": 1644242800697,
     "user": {
      "displayName": "Yaheaal",
      "photoUrl": "https://lh3.googleusercontent.com/a-/AOh14GgoE49Jj8XRaT0ZkUB-uc5rP5cDV-d6ZY1nv6xY=s64",
      "userId": "00430625077795301584"
     },
     "user_tz": -120
    },
    "id": "KOPDCtQpgWvJ",
    "outputId": "82c1ef43-90be-4fad-be4e-cf2c9b1e8f6c"
   },
   "outputs": [
    {
     "data": {
      "text/plain": [
       "10     a\n",
       "100    b\n",
       "2      c\n",
       "dtype: object"
      ]
     },
     "execution_count": 43,
     "metadata": {},
     "output_type": "execute_result"
    }
   ],
   "source": [
    "s = pd.Series(['a', 'b', 'c']).rename(index={0:10, 1:100})\n",
    "s"
   ]
  },
  {
   "cell_type": "code",
   "execution_count": 44,
   "id": "4wDGwdWigg_u",
   "metadata": {
    "colab": {
     "base_uri": "https://localhost:8080/",
     "height": 35
    },
    "executionInfo": {
     "elapsed": 272,
     "status": "ok",
     "timestamp": 1644242821206,
     "user": {
      "displayName": "Yaheaal",
      "photoUrl": "https://lh3.googleusercontent.com/a-/AOh14GgoE49Jj8XRaT0ZkUB-uc5rP5cDV-d6ZY1nv6xY=s64",
      "userId": "00430625077795301584"
     },
     "user_tz": -120
    },
    "id": "4wDGwdWigg_u",
    "outputId": "7e9a3cff-d479-40ec-a93a-841b96f443d2"
   },
   "outputs": [
    {
     "data": {
      "text/plain": [
       "('a', 'c')"
      ]
     },
     "execution_count": 44,
     "metadata": {},
     "output_type": "execute_result"
    }
   ],
   "source": [
    "s[10],s[2]"
   ]
  },
  {
   "cell_type": "markdown",
   "id": "05d8dc61",
   "metadata": {
    "id": "05d8dc61"
   },
   "source": [
    "# More functions"
   ]
  },
  {
   "cell_type": "code",
   "execution_count": 45,
   "id": "2bf06d59",
   "metadata": {
    "colab": {
     "base_uri": "https://localhost:8080/"
    },
    "executionInfo": {
     "elapsed": 14,
     "status": "ok",
     "timestamp": 1644053666431,
     "user": {
      "displayName": "Yaheaal",
      "photoUrl": "https://lh3.googleusercontent.com/a-/AOh14GgoE49Jj8XRaT0ZkUB-uc5rP5cDV-d6ZY1nv6xY=s64",
      "userId": "00430625077795301584"
     },
     "user_tz": -120
    },
    "id": "2bf06d59",
    "outputId": "d2d74371-958f-4194-888b-2550cfe9a23f"
   },
   "outputs": [
    {
     "data": {
      "text/plain": [
       "1"
      ]
     },
     "execution_count": 45,
     "metadata": {},
     "output_type": "execute_result"
    }
   ],
   "source": [
    "np.min([1,2,3])"
   ]
  },
  {
   "cell_type": "code",
   "execution_count": 46,
   "id": "2833d3c4",
   "metadata": {
    "colab": {
     "base_uri": "https://localhost:8080/"
    },
    "executionInfo": {
     "elapsed": 13,
     "status": "ok",
     "timestamp": 1644053666431,
     "user": {
      "displayName": "Yaheaal",
      "photoUrl": "https://lh3.googleusercontent.com/a-/AOh14GgoE49Jj8XRaT0ZkUB-uc5rP5cDV-d6ZY1nv6xY=s64",
      "userId": "00430625077795301584"
     },
     "user_tz": -120
    },
    "id": "2833d3c4",
    "outputId": "32f1474b-8498-401a-99ca-7d83b7d72f2c"
   },
   "outputs": [
    {
     "data": {
      "text/plain": [
       "4"
      ]
     },
     "execution_count": 46,
     "metadata": {},
     "output_type": "execute_result"
    }
   ],
   "source": [
    "np.max([2,3,4])"
   ]
  },
  {
   "cell_type": "code",
   "execution_count": 47,
   "id": "2e527c9b",
   "metadata": {
    "colab": {
     "base_uri": "https://localhost:8080/"
    },
    "executionInfo": {
     "elapsed": 13,
     "status": "ok",
     "timestamp": 1644053666431,
     "user": {
      "displayName": "Yaheaal",
      "photoUrl": "https://lh3.googleusercontent.com/a-/AOh14GgoE49Jj8XRaT0ZkUB-uc5rP5cDV-d6ZY1nv6xY=s64",
      "userId": "00430625077795301584"
     },
     "user_tz": -120
    },
    "id": "2e527c9b",
    "outputId": "cacf66f1-9319-4d4f-f46b-b41b2b209445"
   },
   "outputs": [
    {
     "data": {
      "text/plain": [
       "14"
      ]
     },
     "execution_count": 47,
     "metadata": {},
     "output_type": "execute_result"
    }
   ],
   "source": [
    "np.sum([2,3,4,5])"
   ]
  },
  {
   "cell_type": "code",
   "execution_count": 48,
   "id": "5608f4fc",
   "metadata": {
    "colab": {
     "base_uri": "https://localhost:8080/"
    },
    "executionInfo": {
     "elapsed": 13,
     "status": "ok",
     "timestamp": 1644053666432,
     "user": {
      "displayName": "Yaheaal",
      "photoUrl": "https://lh3.googleusercontent.com/a-/AOh14GgoE49Jj8XRaT0ZkUB-uc5rP5cDV-d6ZY1nv6xY=s64",
      "userId": "00430625077795301584"
     },
     "user_tz": -120
    },
    "id": "5608f4fc",
    "outputId": "9008eef9-63e5-4ab7-8873-b52e6eeeaac1"
   },
   "outputs": [
    {
     "name": "stdout",
     "output_type": "stream",
     "text": [
      "[[12 18 13]\n",
      " [17 12 19]\n",
      " [18 19 11]]\n",
      "-------------------------\n",
      "[[12 12 11]\n",
      " [17 18 13]\n",
      " [18 19 19]]\n",
      "-------------------------\n",
      "[[12 13 18]\n",
      " [12 17 19]\n",
      " [11 18 19]]\n",
      "-------------------------\n"
     ]
    }
   ],
   "source": [
    "a = np.random.randint(5,20, size=9).reshape(3,3)\n",
    "b = np.sort(a,axis=0)\n",
    "c = np.sort(a,axis=1)\n",
    "\n",
    "print(a)\n",
    "print('-------------------------')\n",
    "print(b)\n",
    "print('-------------------------')\n",
    "print(c)\n",
    "print('-------------------------')"
   ]
  },
  {
   "cell_type": "code",
   "execution_count": 49,
   "id": "d6ab05de",
   "metadata": {
    "id": "d6ab05de"
   },
   "outputs": [],
   "source": [
    "df = pd.DataFrame({'ID'  :[1,2,3,4,5],\n",
    "                   'Name':['Mohammed', 'ahmmad', 's', 't', 'k'],\n",
    "                   'Mark':[90, 95, 60, 0, 100]})"
   ]
  },
  {
   "cell_type": "code",
   "execution_count": 50,
   "id": "EM8w9wFwhfAq",
   "metadata": {
    "colab": {
     "base_uri": "https://localhost:8080/",
     "height": 112
    },
    "executionInfo": {
     "elapsed": 305,
     "status": "ok",
     "timestamp": 1644243195365,
     "user": {
      "displayName": "Yaheaal",
      "photoUrl": "https://lh3.googleusercontent.com/a-/AOh14GgoE49Jj8XRaT0ZkUB-uc5rP5cDV-d6ZY1nv6xY=s64",
      "userId": "00430625077795301584"
     },
     "user_tz": -120
    },
    "id": "EM8w9wFwhfAq",
    "outputId": "348414e3-72f0-4106-dd8e-ac00b999858e"
   },
   "outputs": [
    {
     "data": {
      "text/html": [
       "<div>\n",
       "<style scoped>\n",
       "    .dataframe tbody tr th:only-of-type {\n",
       "        vertical-align: middle;\n",
       "    }\n",
       "\n",
       "    .dataframe tbody tr th {\n",
       "        vertical-align: top;\n",
       "    }\n",
       "\n",
       "    .dataframe thead th {\n",
       "        text-align: right;\n",
       "    }\n",
       "</style>\n",
       "<table border=\"1\" class=\"dataframe\">\n",
       "  <thead>\n",
       "    <tr style=\"text-align: right;\">\n",
       "      <th></th>\n",
       "      <th>ID</th>\n",
       "      <th>Name</th>\n",
       "      <th>Mark</th>\n",
       "    </tr>\n",
       "  </thead>\n",
       "  <tbody>\n",
       "    <tr>\n",
       "      <th>1</th>\n",
       "      <td>2</td>\n",
       "      <td>ahmmad</td>\n",
       "      <td>95</td>\n",
       "    </tr>\n",
       "    <tr>\n",
       "      <th>4</th>\n",
       "      <td>5</td>\n",
       "      <td>k</td>\n",
       "      <td>100</td>\n",
       "    </tr>\n",
       "  </tbody>\n",
       "</table>\n",
       "</div>"
      ],
      "text/plain": [
       "   ID    Name  Mark\n",
       "1   2  ahmmad    95\n",
       "4   5       k   100"
      ]
     },
     "execution_count": 50,
     "metadata": {},
     "output_type": "execute_result"
    }
   ],
   "source": [
    "df[df['Mark'] > 90]"
   ]
  },
  {
   "cell_type": "code",
   "execution_count": 51,
   "id": "511d19bb",
   "metadata": {},
   "outputs": [
    {
     "data": {
      "text/html": [
       "<div>\n",
       "<style scoped>\n",
       "    .dataframe tbody tr th:only-of-type {\n",
       "        vertical-align: middle;\n",
       "    }\n",
       "\n",
       "    .dataframe tbody tr th {\n",
       "        vertical-align: top;\n",
       "    }\n",
       "\n",
       "    .dataframe thead th {\n",
       "        text-align: right;\n",
       "    }\n",
       "</style>\n",
       "<table border=\"1\" class=\"dataframe\">\n",
       "  <thead>\n",
       "    <tr style=\"text-align: right;\">\n",
       "      <th></th>\n",
       "      <th>ID</th>\n",
       "      <th>Name</th>\n",
       "      <th>Mark</th>\n",
       "    </tr>\n",
       "  </thead>\n",
       "  <tbody>\n",
       "    <tr>\n",
       "      <th>2</th>\n",
       "      <td>3</td>\n",
       "      <td>s</td>\n",
       "      <td>60</td>\n",
       "    </tr>\n",
       "  </tbody>\n",
       "</table>\n",
       "</div>"
      ],
      "text/plain": [
       "   ID Name  Mark\n",
       "2   3    s    60"
      ]
     },
     "execution_count": 51,
     "metadata": {},
     "output_type": "execute_result"
    }
   ],
   "source": [
    "df[df['ID'] == 3]"
   ]
  },
  {
   "cell_type": "code",
   "execution_count": 52,
   "id": "aHUyH5O4hs_4",
   "metadata": {
    "colab": {
     "base_uri": "https://localhost:8080/"
    },
    "executionInfo": {
     "elapsed": 312,
     "status": "ok",
     "timestamp": 1644243318121,
     "user": {
      "displayName": "Yaheaal",
      "photoUrl": "https://lh3.googleusercontent.com/a-/AOh14GgoE49Jj8XRaT0ZkUB-uc5rP5cDV-d6ZY1nv6xY=s64",
      "userId": "00430625077795301584"
     },
     "user_tz": -120
    },
    "id": "aHUyH5O4hs_4",
    "outputId": "4cafbe2f-040d-4100-e832-490eaf4d223f"
   },
   "outputs": [
    {
     "data": {
      "text/plain": [
       "array([10, 10, 20, 50, 80])"
      ]
     },
     "execution_count": 52,
     "metadata": {},
     "output_type": "execute_result"
    }
   ],
   "source": [
    "import pandas as pd\n",
    "import numpy as np\n",
    "\n",
    "np.array([10, 10, 20, 50, 80])"
   ]
  },
  {
   "cell_type": "code",
   "execution_count": 53,
   "id": "8XiLoMxRifEg",
   "metadata": {
    "colab": {
     "base_uri": "https://localhost:8080/"
    },
    "executionInfo": {
     "elapsed": 262,
     "status": "ok",
     "timestamp": 1644243368119,
     "user": {
      "displayName": "Yaheaal",
      "photoUrl": "https://lh3.googleusercontent.com/a-/AOh14GgoE49Jj8XRaT0ZkUB-uc5rP5cDV-d6ZY1nv6xY=s64",
      "userId": "00430625077795301584"
     },
     "user_tz": -120
    },
    "id": "8XiLoMxRifEg",
    "outputId": "22923199-c6c3-4351-de31-a368f00ca5e2"
   },
   "outputs": [
    {
     "data": {
      "text/plain": [
       "a    10\n",
       "b    10\n",
       "c    20\n",
       "d    50\n",
       "e    80\n",
       "dtype: int64"
      ]
     },
     "execution_count": 53,
     "metadata": {},
     "output_type": "execute_result"
    }
   ],
   "source": [
    "x = pd.Series([10, 10, 20, 50, 80], index=['a', 'b','c','d','e'])\n",
    "x"
   ]
  },
  {
   "cell_type": "code",
   "execution_count": 54,
   "id": "w_Rtl4Gsil2V",
   "metadata": {
    "colab": {
     "base_uri": "https://localhost:8080/"
    },
    "executionInfo": {
     "elapsed": 285,
     "status": "ok",
     "timestamp": 1644243474024,
     "user": {
      "displayName": "Yaheaal",
      "photoUrl": "https://lh3.googleusercontent.com/a-/AOh14GgoE49Jj8XRaT0ZkUB-uc5rP5cDV-d6ZY1nv6xY=s64",
      "userId": "00430625077795301584"
     },
     "user_tz": -120
    },
    "id": "w_Rtl4Gsil2V",
    "outputId": "269f33c4-4f65-4ab0-8118-100ab39a8807"
   },
   "outputs": [
    {
     "data": {
      "text/plain": [
       "a    False\n",
       "b    False\n",
       "c    False\n",
       "d    False\n",
       "e     True\n",
       "dtype: bool"
      ]
     },
     "execution_count": 54,
     "metadata": {},
     "output_type": "execute_result"
    }
   ],
   "source": [
    "x>50"
   ]
  },
  {
   "cell_type": "code",
   "execution_count": null,
   "id": "Moww4d6Ki9By",
   "metadata": {
    "id": "Moww4d6Ki9By"
   },
   "outputs": [],
   "source": []
  }
 ],
 "metadata": {
  "colab": {
   "collapsed_sections": [],
   "name": "Start with numpy.ipynb",
   "provenance": []
  },
  "kernelspec": {
   "display_name": "Python 3 (ipykernel)",
   "language": "python",
   "name": "python3"
  },
  "language_info": {
   "codemirror_mode": {
    "name": "ipython",
    "version": 3
   },
   "file_extension": ".py",
   "mimetype": "text/x-python",
   "name": "python",
   "nbconvert_exporter": "python",
   "pygments_lexer": "ipython3",
   "version": "3.9.7"
  }
 },
 "nbformat": 4,
 "nbformat_minor": 5
}
